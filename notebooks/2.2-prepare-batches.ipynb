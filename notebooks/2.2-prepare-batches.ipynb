{
 "cells": [
  {
   "cell_type": "code",
   "execution_count": 2,
   "metadata": {},
   "outputs": [],
   "source": [
    "import pandas as pd\n",
    "import json\n",
    "from pathlib import Path "
   ]
  },
  {
   "cell_type": "code",
   "execution_count": 3,
   "metadata": {},
   "outputs": [],
   "source": [
    "ANN_PATH = Path('../data/span_annotations_v2')\n",
    "\n",
    "targets = ['Alevi', 'Arab', 'Armenian', 'Greek', 'Immigrant-Refugee', 'Jew', 'Kurdish', 'LGBTI+']\n",
    "dfs = []\n",
    "for file in ANN_PATH.iterdir():\n",
    "    if file.stem in targets and file.suffix == '.csv':\n",
    "        dfs.append(pd.read_csv(file).assign(target=file.stem))\n",
    "\n",
    "\n",
    "df = pd.concat(dfs)"
   ]
  },
  {
   "cell_type": "code",
   "execution_count": 4,
   "metadata": {},
   "outputs": [
    {
     "data": {
      "text/plain": [
       "(3530, 6)"
      ]
     },
     "execution_count": 4,
     "metadata": {},
     "output_type": "execute_result"
    }
   ],
   "source": [
    "df.shape"
   ]
  },
  {
   "cell_type": "code",
   "execution_count": 27,
   "metadata": {},
   "outputs": [],
   "source": [
    "import numpy as np\n",
    "import pandas as pd\n",
    "\n",
    "num_annotators = 6\n",
    "batch_size = 50\n",
    "batches_per_annotator = 24  # Each annotator gets exactly 24 batches\n",
    "\n",
    "output_dir = ANN_PATH / 'batches'\n",
    "# Annotator names\n",
    "annotator_names = ['Pelin', 'Elif', 'Burak', 'İrem', 'Murat', 'Didem']\n",
    "\n",
    "# Shuffle the dataframe\n",
    "df_shuffled = df.sample(frac=1).reset_index(drop=True)\n",
    "\n",
    "# Split the dataframe into batches of 50\n",
    "batches = [df_shuffled[i:i + batch_size] for i in range(0, len(df_shuffled), batch_size)]\n",
    "\n",
    "# Ensure equal distribution of batches to annotators\n",
    "num_batches = len(batches)\n",
    "\n",
    "# Create an array to assign each annotator 24 batches\n",
    "annotator_assignments = np.repeat(annotator_names, batches_per_annotator)\n",
    "\n",
    "# Shuffle the annotator assignment list\n",
    "np.random.shuffle(annotator_assignments)\n",
    "\n",
    "# Create pairs of annotators for each batch, ensuring no annotator is assigned to a batch twice\n",
    "assignments = []\n",
    "used_annotators_per_batch = set()\n",
    "\n",
    "for i, batch in enumerate(batches, 1):\n",
    "    # Assign two different annotators to each batch\n",
    "    available_annotators = list(set(annotator_assignments) - used_annotators_per_batch)\n",
    "    annotator_1, annotator_2 = np.random.choice(available_annotators, size=2, replace=False)\n",
    "    \n",
    "    # Save the batch and assignment\n",
    "    batch_filename = output_dir / f'batch_{i}.csv'\n",
    "    batch.to_csv(batch_filename, index=False)\n",
    "    \n",
    "    # Add the assignment to the list\n",
    "    assignments.append({\n",
    "        'batch_number': i, \n",
    "        'annotator_1': annotator_1, \n",
    "        'annotator_2': annotator_2, \n",
    "        'filename': batch_filename.name\n",
    "    })\n",
    "    \n",
    "    # Mark these annotators as used for this batch\n",
    "    used_annotators_per_batch.update([annotator_1, annotator_2])\n",
    "    \n",
    "    # Reset the used set if we've assigned annotators to enough batches\n",
    "    if len(used_annotators_per_batch) == num_annotators:\n",
    "        used_annotators_per_batch = set()\n",
    "\n",
    "# Save assignments to a CSV file\n",
    "assignments_df = pd.DataFrame(assignments)\n",
    "assignments_df.to_csv(output_dir / 'assignments.csv', index=False)"
   ]
  },
  {
   "cell_type": "code",
   "execution_count": 5,
   "metadata": {},
   "outputs": [],
   "source": [
    "target = 'Immigrant-Refugee_Arabic'\n",
    "file = ANN_PATH / f'{target}.csv'\n",
    "arabic_df = pd.read_csv(file).assign(target=file.stem)"
   ]
  },
  {
   "cell_type": "code",
   "execution_count": 6,
   "metadata": {},
   "outputs": [
    {
     "data": {
      "text/plain": [
       "(245, 5)"
      ]
     },
     "execution_count": 6,
     "metadata": {},
     "output_type": "execute_result"
    }
   ],
   "source": [
    "arabic_df.shape"
   ]
  },
  {
   "cell_type": "code",
   "execution_count": 8,
   "metadata": {},
   "outputs": [],
   "source": [
    "import numpy as np\n",
    "import pandas as pd\n",
    "\n",
    "num_annotators = 2\n",
    "batch_size = 50\n",
    "batches_per_annotator = 5\n",
    "\n",
    "output_dir = ANN_PATH / 'batches_ar'\n",
    "output_dir.mkdir(parents=True, exist_ok=True)\n",
    "# Annotator names\n",
    "annotator_names = ['Neda', 'Majd']\n",
    "\n",
    "# Shuffle the dataframe\n",
    "df_shuffled = arabic_df.sample(frac=1).reset_index(drop=True)\n",
    "\n",
    "# Split the dataframe into batches of 50\n",
    "batches = [df_shuffled[i:i + batch_size] for i in range(0, len(df_shuffled), batch_size)]\n",
    "\n",
    "# Ensure equal distribution of batches to annotators\n",
    "num_batches = len(batches)\n",
    "\n",
    "# Create an array to assign each annotator 24 batches\n",
    "annotator_assignments = np.repeat(annotator_names, batches_per_annotator)\n",
    "\n",
    "# Shuffle the annotator assignment list\n",
    "np.random.shuffle(annotator_assignments)\n",
    "\n",
    "# Create pairs of annotators for each batch, ensuring no annotator is assigned to a batch twice\n",
    "assignments = []\n",
    "used_annotators_per_batch = set()\n",
    "\n",
    "for i, batch in enumerate(batches, 1):\n",
    "    # Assign two different annotators to each batch\n",
    "    available_annotators = list(set(annotator_assignments) - used_annotators_per_batch)\n",
    "    annotator_1, annotator_2 = np.random.choice(available_annotators, size=2, replace=False)\n",
    "    \n",
    "    # Save the batch and assignment\n",
    "    batch_filename = output_dir / f'batch_{i}.csv'\n",
    "    batch.to_csv(batch_filename, index=False)\n",
    "    \n",
    "    # Add the assignment to the list\n",
    "    assignments.append({\n",
    "        'batch_number': i, \n",
    "        'annotator_1': annotator_1, \n",
    "        'annotator_2': annotator_2, \n",
    "        'filename': batch_filename.name\n",
    "    })\n",
    "    \n",
    "    # Mark these annotators as used for this batch\n",
    "    used_annotators_per_batch.update([annotator_1, annotator_2])\n",
    "    \n",
    "    # Reset the used set if we've assigned annotators to enough batches\n",
    "    if len(used_annotators_per_batch) == num_annotators:\n",
    "        used_annotators_per_batch = set()\n",
    "\n",
    "# Save assignments to a CSV file\n",
    "assignments_df = pd.DataFrame(assignments)\n",
    "assignments_df.to_csv(output_dir / 'assignments.csv', index=False)"
   ]
  },
  {
   "cell_type": "code",
   "execution_count": null,
   "metadata": {},
   "outputs": [],
   "source": []
  }
 ],
 "metadata": {
  "kernelspec": {
   "display_name": "base",
   "language": "python",
   "name": "python3"
  },
  "language_info": {
   "codemirror_mode": {
    "name": "ipython",
    "version": 3
   },
   "file_extension": ".py",
   "mimetype": "text/x-python",
   "name": "python",
   "nbconvert_exporter": "python",
   "pygments_lexer": "ipython3",
   "version": "3.12.7"
  }
 },
 "nbformat": 4,
 "nbformat_minor": 2
}
